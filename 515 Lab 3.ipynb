{
 "cells": [
  {
   "cell_type": "markdown",
   "id": "368a7d50",
   "metadata": {},
   "source": [
    "# Lab 3\n",
    "## 3.3.2024"
   ]
  },
  {
   "cell_type": "markdown",
   "id": "f0577a9f",
   "metadata": {},
   "source": [
    "## Arch Model"
   ]
  },
  {
   "cell_type": "markdown",
   "id": "2b1eeb02",
   "metadata": {},
   "source": [
    "a statistical model for time series data that describes the variance of the current error term or innovation as a function of the actual sizes of the previous time periods' error terms"
   ]
  },
  {
   "cell_type": "markdown",
   "id": "c024d030",
   "metadata": {},
   "source": [
    "### Preparation"
   ]
  },
  {
   "cell_type": "code",
   "execution_count": 1,
   "id": "06ef5c1e",
   "metadata": {},
   "outputs": [],
   "source": [
    "#### Packages\n",
    "\n",
    "import pandas as pd\n",
    "from statsmodels.tsa.stattools import adfuller\n",
    "from arch import arch_model"
   ]
  },
  {
   "cell_type": "code",
   "execution_count": 2,
   "id": "a4497fc3",
   "metadata": {},
   "outputs": [],
   "source": [
    "#### Reading Stock Price File\n",
    "\n",
    "XOM = pd.read_csv(\"XOM.csv\")"
   ]
  },
  {
   "cell_type": "code",
   "execution_count": 3,
   "id": "3f3a7db0",
   "metadata": {},
   "outputs": [
    {
     "data": {
      "text/html": [
       "<div>\n",
       "<style scoped>\n",
       "    .dataframe tbody tr th:only-of-type {\n",
       "        vertical-align: middle;\n",
       "    }\n",
       "\n",
       "    .dataframe tbody tr th {\n",
       "        vertical-align: top;\n",
       "    }\n",
       "\n",
       "    .dataframe thead th {\n",
       "        text-align: right;\n",
       "    }\n",
       "</style>\n",
       "<table border=\"1\" class=\"dataframe\">\n",
       "  <thead>\n",
       "    <tr style=\"text-align: right;\">\n",
       "      <th></th>\n",
       "      <th>Date</th>\n",
       "      <th>Open</th>\n",
       "      <th>High</th>\n",
       "      <th>Low</th>\n",
       "      <th>Close</th>\n",
       "      <th>Adj Close</th>\n",
       "      <th>Volume</th>\n",
       "    </tr>\n",
       "  </thead>\n",
       "  <tbody>\n",
       "    <tr>\n",
       "      <th>0</th>\n",
       "      <td>1962-01-02</td>\n",
       "      <td>0.0</td>\n",
       "      <td>1.589844</td>\n",
       "      <td>1.578125</td>\n",
       "      <td>1.578125</td>\n",
       "      <td>0.095784</td>\n",
       "      <td>902400</td>\n",
       "    </tr>\n",
       "    <tr>\n",
       "      <th>1</th>\n",
       "      <td>1962-01-03</td>\n",
       "      <td>0.0</td>\n",
       "      <td>1.601563</td>\n",
       "      <td>1.578125</td>\n",
       "      <td>1.601563</td>\n",
       "      <td>0.097206</td>\n",
       "      <td>1200000</td>\n",
       "    </tr>\n",
       "    <tr>\n",
       "      <th>2</th>\n",
       "      <td>1962-01-04</td>\n",
       "      <td>0.0</td>\n",
       "      <td>1.613281</td>\n",
       "      <td>1.597656</td>\n",
       "      <td>1.605469</td>\n",
       "      <td>0.097444</td>\n",
       "      <td>1088000</td>\n",
       "    </tr>\n",
       "    <tr>\n",
       "      <th>3</th>\n",
       "      <td>1962-01-05</td>\n",
       "      <td>0.0</td>\n",
       "      <td>1.613281</td>\n",
       "      <td>1.566406</td>\n",
       "      <td>1.570313</td>\n",
       "      <td>0.095310</td>\n",
       "      <td>1222400</td>\n",
       "    </tr>\n",
       "    <tr>\n",
       "      <th>4</th>\n",
       "      <td>1962-01-08</td>\n",
       "      <td>0.0</td>\n",
       "      <td>1.582031</td>\n",
       "      <td>1.546875</td>\n",
       "      <td>1.566406</td>\n",
       "      <td>0.095073</td>\n",
       "      <td>1388800</td>\n",
       "    </tr>\n",
       "  </tbody>\n",
       "</table>\n",
       "</div>"
      ],
      "text/plain": [
       "         Date  Open      High       Low     Close  Adj Close   Volume\n",
       "0  1962-01-02   0.0  1.589844  1.578125  1.578125   0.095784   902400\n",
       "1  1962-01-03   0.0  1.601563  1.578125  1.601563   0.097206  1200000\n",
       "2  1962-01-04   0.0  1.613281  1.597656  1.605469   0.097444  1088000\n",
       "3  1962-01-05   0.0  1.613281  1.566406  1.570313   0.095310  1222400\n",
       "4  1962-01-08   0.0  1.582031  1.546875  1.566406   0.095073  1388800"
      ]
     },
     "execution_count": 3,
     "metadata": {},
     "output_type": "execute_result"
    }
   ],
   "source": [
    "#### Head\n",
    "\n",
    "XOM.head()"
   ]
  },
  {
   "cell_type": "code",
   "execution_count": 4,
   "id": "06b17577",
   "metadata": {},
   "outputs": [],
   "source": [
    "#### Reading again and specify first column as index\n",
    "\n",
    "XOM = pd.read_csv(\"XOM.csv\", index_col = 0)"
   ]
  },
  {
   "cell_type": "code",
   "execution_count": 5,
   "id": "b813f632",
   "metadata": {},
   "outputs": [
    {
     "data": {
      "text/html": [
       "<div>\n",
       "<style scoped>\n",
       "    .dataframe tbody tr th:only-of-type {\n",
       "        vertical-align: middle;\n",
       "    }\n",
       "\n",
       "    .dataframe tbody tr th {\n",
       "        vertical-align: top;\n",
       "    }\n",
       "\n",
       "    .dataframe thead th {\n",
       "        text-align: right;\n",
       "    }\n",
       "</style>\n",
       "<table border=\"1\" class=\"dataframe\">\n",
       "  <thead>\n",
       "    <tr style=\"text-align: right;\">\n",
       "      <th></th>\n",
       "      <th>Open</th>\n",
       "      <th>High</th>\n",
       "      <th>Low</th>\n",
       "      <th>Close</th>\n",
       "      <th>Adj Close</th>\n",
       "      <th>Volume</th>\n",
       "    </tr>\n",
       "    <tr>\n",
       "      <th>Date</th>\n",
       "      <th></th>\n",
       "      <th></th>\n",
       "      <th></th>\n",
       "      <th></th>\n",
       "      <th></th>\n",
       "      <th></th>\n",
       "    </tr>\n",
       "  </thead>\n",
       "  <tbody>\n",
       "    <tr>\n",
       "      <th>1962-01-02</th>\n",
       "      <td>0.0</td>\n",
       "      <td>1.589844</td>\n",
       "      <td>1.578125</td>\n",
       "      <td>1.578125</td>\n",
       "      <td>0.095784</td>\n",
       "      <td>902400</td>\n",
       "    </tr>\n",
       "    <tr>\n",
       "      <th>1962-01-03</th>\n",
       "      <td>0.0</td>\n",
       "      <td>1.601563</td>\n",
       "      <td>1.578125</td>\n",
       "      <td>1.601563</td>\n",
       "      <td>0.097206</td>\n",
       "      <td>1200000</td>\n",
       "    </tr>\n",
       "    <tr>\n",
       "      <th>1962-01-04</th>\n",
       "      <td>0.0</td>\n",
       "      <td>1.613281</td>\n",
       "      <td>1.597656</td>\n",
       "      <td>1.605469</td>\n",
       "      <td>0.097444</td>\n",
       "      <td>1088000</td>\n",
       "    </tr>\n",
       "    <tr>\n",
       "      <th>1962-01-05</th>\n",
       "      <td>0.0</td>\n",
       "      <td>1.613281</td>\n",
       "      <td>1.566406</td>\n",
       "      <td>1.570313</td>\n",
       "      <td>0.095310</td>\n",
       "      <td>1222400</td>\n",
       "    </tr>\n",
       "    <tr>\n",
       "      <th>1962-01-08</th>\n",
       "      <td>0.0</td>\n",
       "      <td>1.582031</td>\n",
       "      <td>1.546875</td>\n",
       "      <td>1.566406</td>\n",
       "      <td>0.095073</td>\n",
       "      <td>1388800</td>\n",
       "    </tr>\n",
       "  </tbody>\n",
       "</table>\n",
       "</div>"
      ],
      "text/plain": [
       "            Open      High       Low     Close  Adj Close   Volume\n",
       "Date                                                              \n",
       "1962-01-02   0.0  1.589844  1.578125  1.578125   0.095784   902400\n",
       "1962-01-03   0.0  1.601563  1.578125  1.601563   0.097206  1200000\n",
       "1962-01-04   0.0  1.613281  1.597656  1.605469   0.097444  1088000\n",
       "1962-01-05   0.0  1.613281  1.566406  1.570313   0.095310  1222400\n",
       "1962-01-08   0.0  1.582031  1.546875  1.566406   0.095073  1388800"
      ]
     },
     "execution_count": 5,
     "metadata": {},
     "output_type": "execute_result"
    }
   ],
   "source": [
    "#### Head\n",
    "\n",
    "XOM.head()"
   ]
  },
  {
   "cell_type": "markdown",
   "id": "c2981889",
   "metadata": {},
   "source": [
    "## Test for stationarity"
   ]
  },
  {
   "cell_type": "code",
   "execution_count": 6,
   "id": "323c25a1",
   "metadata": {},
   "outputs": [
    {
     "name": "stdout",
     "output_type": "stream",
     "text": [
      "(1.4135831998503192, 0.9971749829907659, 36, 15598, {'1%': -3.430769308660732, '5%': -2.861725316810465, '10%': -2.5668686395747655}, 23792.874696335144)\n"
     ]
    }
   ],
   "source": [
    "#### AD Fuller Test\n",
    "\n",
    "print(adfuller(XOM[\"Adj Close\"]))"
   ]
  },
  {
   "cell_type": "code",
   "execution_count": 7,
   "id": "ada7408a",
   "metadata": {},
   "outputs": [
    {
     "name": "stdout",
     "output_type": "stream",
     "text": [
      "p-value: 0.997175\n"
     ]
    }
   ],
   "source": [
    "#### P-Value\n",
    "print('p-value: %f' % adfuller(XOM[\"Adj Close\"])[1])"
   ]
  },
  {
   "cell_type": "markdown",
   "id": "4aefa808",
   "metadata": {},
   "source": [
    "## Detrending and test again"
   ]
  },
  {
   "cell_type": "code",
   "execution_count": 8,
   "id": "a225a1cf",
   "metadata": {},
   "outputs": [],
   "source": [
    "#### Detrending\n",
    "returns = 100* XOM[\"Adj Close\"].pct_change().dropna()"
   ]
  },
  {
   "cell_type": "code",
   "execution_count": 9,
   "id": "7db455f5",
   "metadata": {},
   "outputs": [
    {
     "data": {
      "text/plain": [
       "Date\n",
       "1962-01-03    1.484590\n",
       "1962-01-04    0.244841\n",
       "1962-01-05   -2.189976\n",
       "1962-01-08   -0.248662\n",
       "1962-01-09   -0.249282\n",
       "Name: Adj Close, dtype: float64"
      ]
     },
     "execution_count": 9,
     "metadata": {},
     "output_type": "execute_result"
    }
   ],
   "source": [
    "#### Head\n",
    "returns.head()"
   ]
  },
  {
   "cell_type": "code",
   "execution_count": 10,
   "id": "e309d24a",
   "metadata": {},
   "outputs": [
    {
     "name": "stdout",
     "output_type": "stream",
     "text": [
      "p-value: 0.000000\n"
     ]
    }
   ],
   "source": [
    "#### Test for stationarity of returns\n",
    "print('p-value: %f' % adfuller(returns)[1])"
   ]
  },
  {
   "cell_type": "markdown",
   "id": "b9e90146",
   "metadata": {},
   "source": [
    "## Arch Model"
   ]
  },
  {
   "cell_type": "code",
   "execution_count": 11,
   "id": "69079513",
   "metadata": {},
   "outputs": [
    {
     "name": "stdout",
     "output_type": "stream",
     "text": [
      "Iteration:      1,   Func. Count:      5,   Neg. LLF: 54295533889182.164\n",
      "Iteration:      2,   Func. Count:     13,   Neg. LLF: 8600333172.617403\n",
      "Iteration:      3,   Func. Count:     19,   Neg. LLF: 28241.237262962182\n",
      "Iteration:      4,   Func. Count:     25,   Neg. LLF: 26990.236482618297\n",
      "Iteration:      5,   Func. Count:     29,   Neg. LLF: 26990.236205918423\n",
      "Iteration:      6,   Func. Count:     32,   Neg. LLF: 26990.236205918467\n",
      "Optimization terminated successfully    (Exit mode 0)\n",
      "            Current function value: 26990.236205918423\n",
      "            Iterations: 6\n",
      "            Function evaluations: 32\n",
      "            Gradient evaluations: 6\n",
      "                      Constant Mean - ARCH Model Results                      \n",
      "==============================================================================\n",
      "Dep. Variable:              Adj Close   R-squared:                       0.000\n",
      "Mean Model:             Constant Mean   Adj. R-squared:                  0.000\n",
      "Vol Model:                       ARCH   Log-Likelihood:               -26990.2\n",
      "Distribution:                  Normal   AIC:                           53986.5\n",
      "Method:            Maximum Likelihood   BIC:                           54009.4\n",
      "                                        No. Observations:                15634\n",
      "Date:                Mon, Mar 04 2024   Df Residuals:                    15633\n",
      "Time:                        10:50:38   Df Model:                            1\n",
      "                                 Mean Model                                 \n",
      "============================================================================\n",
      "                 coef    std err          t      P>|t|      95.0% Conf. Int.\n",
      "----------------------------------------------------------------------------\n",
      "mu             0.0649  1.123e-02      5.780  7.475e-09 [4.292e-02,8.696e-02]\n",
      "                            Volatility Model                            \n",
      "========================================================================\n",
      "                 coef    std err          t      P>|t|  95.0% Conf. Int.\n",
      "------------------------------------------------------------------------\n",
      "omega          1.4343  3.668e-02     39.103      0.000 [  1.362,  1.506]\n",
      "alpha[1]       0.3025  2.550e-02     11.860  1.909e-32 [  0.252,  0.352]\n",
      "========================================================================\n",
      "\n",
      "Covariance estimator: robust\n"
     ]
    }
   ],
   "source": [
    "am = arch_model(returns, vol=\"ARCH\")\n",
    "res = am.fit()\n",
    "print(res.summary())"
   ]
  },
  {
   "cell_type": "markdown",
   "id": "5787fbce",
   "metadata": {},
   "source": [
    "## GARCH Model"
   ]
  },
  {
   "cell_type": "code",
   "execution_count": 12,
   "id": "82618039",
   "metadata": {},
   "outputs": [
    {
     "name": "stdout",
     "output_type": "stream",
     "text": [
      "Iteration:      1,   Func. Count:      6,   Neg. LLF: 106767.76997568052\n",
      "Iteration:      2,   Func. Count:     15,   Neg. LLF: 113035.08336004816\n",
      "Iteration:      3,   Func. Count:     25,   Neg. LLF: 2238967715.947327\n",
      "Iteration:      4,   Func. Count:     31,   Neg. LLF: 25864.688569735426\n",
      "Iteration:      5,   Func. Count:     37,   Neg. LLF: 44567.91768900358\n",
      "Iteration:      6,   Func. Count:     43,   Neg. LLF: 25935.633930567114\n",
      "Iteration:      7,   Func. Count:     50,   Neg. LLF: 25832.299457129913\n",
      "Iteration:      8,   Func. Count:     55,   Neg. LLF: 25832.265061854734\n",
      "Iteration:      9,   Func. Count:     60,   Neg. LLF: 25832.264754996366\n",
      "Iteration:     10,   Func. Count:     65,   Neg. LLF: 25832.26472866724\n",
      "Iteration:     11,   Func. Count:     69,   Neg. LLF: 25832.264728662893\n",
      "Optimization terminated successfully    (Exit mode 0)\n",
      "            Current function value: 25832.26472866724\n",
      "            Iterations: 11\n",
      "            Function evaluations: 69\n",
      "            Gradient evaluations: 11\n",
      "                     Constant Mean - GARCH Model Results                      \n",
      "==============================================================================\n",
      "Dep. Variable:              Adj Close   R-squared:                       0.000\n",
      "Mean Model:             Constant Mean   Adj. R-squared:                  0.000\n",
      "Vol Model:                      GARCH   Log-Likelihood:               -25832.3\n",
      "Distribution:                  Normal   AIC:                           51672.5\n",
      "Method:            Maximum Likelihood   BIC:                           51703.2\n",
      "                                        No. Observations:                15634\n",
      "Date:                Mon, Mar 04 2024   Df Residuals:                    15633\n",
      "Time:                        10:54:47   Df Model:                            1\n",
      "                                 Mean Model                                 \n",
      "============================================================================\n",
      "                 coef    std err          t      P>|t|      95.0% Conf. Int.\n",
      "----------------------------------------------------------------------------\n",
      "mu             0.0603  9.269e-03      6.502  7.910e-11 [4.210e-02,7.843e-02]\n",
      "                              Volatility Model                              \n",
      "============================================================================\n",
      "                 coef    std err          t      P>|t|      95.0% Conf. Int.\n",
      "----------------------------------------------------------------------------\n",
      "omega          0.0343  6.515e-03      5.257  1.465e-07 [2.148e-02,4.702e-02]\n",
      "alpha[1]       0.0813  1.033e-02      7.874  3.448e-15   [6.107e-02,  0.102]\n",
      "beta[1]        0.9020  1.190e-02     75.767      0.000     [  0.879,  0.925]\n",
      "============================================================================\n",
      "\n",
      "Covariance estimator: robust\n"
     ]
    }
   ],
   "source": [
    "am = arch_model(returns, vol=\"GARCH\")\n",
    "res = am.fit()\n",
    "print(res.summary())"
   ]
  },
  {
   "cell_type": "code",
   "execution_count": null,
   "id": "06520904",
   "metadata": {},
   "outputs": [],
   "source": []
  }
 ],
 "metadata": {
  "kernelspec": {
   "display_name": "Python 3 (ipykernel)",
   "language": "python",
   "name": "python3"
  },
  "language_info": {
   "codemirror_mode": {
    "name": "ipython",
    "version": 3
   },
   "file_extension": ".py",
   "mimetype": "text/x-python",
   "name": "python",
   "nbconvert_exporter": "python",
   "pygments_lexer": "ipython3",
   "version": "3.11.4"
  }
 },
 "nbformat": 4,
 "nbformat_minor": 5
}
